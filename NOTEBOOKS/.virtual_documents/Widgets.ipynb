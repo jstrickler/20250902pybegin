





%matplotlib inline
import sys
import pandas as pd
import seaborn as sns
import matplotlib.pyplot as plt
from ipywidgets import interact, interactive, fixed, interact_manual
from ipywidgets.widgets import Text, FloatSlider, IntSlider, RadioButtons
from ipywidgets.widgets import Checkbox, Box
import ipywidgets as widgets
from IPython.display import display
sns.set_style('dark')

# print(sys.version)
# print(sys.prefix)





def f(x=0):
    print(x)

widgets.interact(f, x=(0,10))





@widgets.interact(x=(0,10))
def f(x=0):
    print(x)





text = Text()  # text input widget

# event handler for input widget
def handle_submit(input_text):
    print("input_text:", input_text)

text.on_submit(handle_submit)  # add handler to widget
display(text)  # 







df = pd.read_csv(
    '../DATA/airport_boardings.csv',
    thousands=',',
    skipinitialspace=True,
)

df.head()






FIELD_TO_PLOT = 'Total'
NUM_ENTRIES = 10


sns.barplot(x=df[FIELD_TO_PLOT], y=df['Code'][:NUM_ENTRIES])

plt.xlabel('Boardings in Millions')
plt.ylabel('Airport')

plt.show()





MIN_ENTRIES = 1
MAX_ENTRIES = 10


def update_chart(num_entries):
    ax = sns.barplot(x=df[FIELD_TO_PLOT], y=df['Code'][:num_entries])
    ax.set(xlabel='Boardings in Millions', ylabel='Airport')
    print(plt.xlim(), plt.ylim())
    f = plt.gcf()
    print(f)
    f.set_dpi(1000)
    plt.xlim(0, 40_000_000)
    plt.show()


slider = IntSlider(min=MIN_ENTRIES, max=MAX_ENTRIES,step=1,value=MIN_ENTRIES)
interact(update_chart, num_entries=slider);








