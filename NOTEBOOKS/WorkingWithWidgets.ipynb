{
 "cells": [
  {
   "cell_type": "markdown",
   "id": "e511ce9a-680a-492c-a862-98f459e2f903",
   "metadata": {},
   "source": [
    "# Using iPython Widgets"
   ]
  },
  {
   "cell_type": "code",
   "execution_count": 1,
   "id": "f1b59561-ad98-4d81-8701-66c8c9d1ca26",
   "metadata": {},
   "outputs": [],
   "source": [
    "# %load imports.py\n",
    "import pandas as pd\n",
    "import matplotlib.pyplot as plt\n",
    "from ipywidgets import interact_manual, interact\n",
    "import ipywidgets as widgets\n",
    "%matplotlib inline\n",
    "import seaborn as sns\n",
    "sns.set()"
   ]
  },
  {
   "cell_type": "markdown",
   "id": "72f8d44f-393c-4bae-983b-8b2ec0021bbf",
   "metadata": {},
   "source": [
    "## The `interact()` function\n",
    "The `interact()` function can be called directly or used as a decorator"
   ]
  },
  {
   "cell_type": "markdown",
   "id": "21d9ca72-7320-47ff-b917-2b48dfdf37f3",
   "metadata": {},
   "source": [
    "When called directly, the first argument is a function, and the other arguments represent widgets that provide\n",
    "input to the function. The function is called whenever a widget value changes. Widgets are automatically generated based on the data type of the arguments to interact. "
   ]
  },
  {
   "cell_type": "code",
   "execution_count": 8,
   "id": "e4bfdd91-3cc6-44e1-a08f-281e493cb85a",
   "metadata": {},
   "outputs": [
    {
     "data": {
      "application/vnd.jupyter.widget-view+json": {
       "model_id": "f62bccd8a5804a1ca9e734eff3ba6d07",
       "version_major": 2,
       "version_minor": 0
      },
      "text/plain": [
       "interactive(children=(Checkbox(value=True, description='x'), IntSlider(value=5, description='y', max=10), Text…"
      ]
     },
     "metadata": {},
     "output_type": "display_data"
    },
    {
     "data": {
      "text/plain": [
       "<function __main__.f(x, y, z)>"
      ]
     },
     "execution_count": 8,
     "metadata": {},
     "output_type": "execute_result"
    }
   ],
   "source": [
    "def f(x, y, z):\n",
    "    print(x, y * z)\n",
    "interact(f, x=True, y=(0,10), z=\"Hello\")"
   ]
  },
  {
   "cell_type": "markdown",
   "id": "27a1b656-860b-4647-9cb5-ccd66c3bafe6",
   "metadata": {},
   "source": [
    "`interact()` can also be used as a decorator, which is passed the function arguments and their values. "
   ]
  },
  {
   "cell_type": "code",
   "execution_count": 9,
   "id": "8c900aa4-56d2-43b5-b2f3-afd289ffa55a",
   "metadata": {},
   "outputs": [
    {
     "data": {
      "application/vnd.jupyter.widget-view+json": {
       "model_id": "28d77a3a9f254cd58d979cf8bab23f7a",
       "version_major": 2,
       "version_minor": 0
      },
      "text/plain": [
       "interactive(children=(Checkbox(value=True, description='x'), IntSlider(value=5, description='y', max=10), Text…"
      ]
     },
     "metadata": {},
     "output_type": "display_data"
    }
   ],
   "source": [
    "@interact(x=True, y=(0,10), z=\"Hello\")\n",
    "def f(x, y, z):\n",
    "    print(x, y * z)"
   ]
  },
  {
   "cell_type": "markdown",
   "id": "a5706de8-d29d-4d46-9437-321771615c9c",
   "metadata": {},
   "source": [
    "You can also create widget objects and pass them instead of plain data. "
   ]
  },
  {
   "cell_type": "code",
   "execution_count": 10,
   "id": "31b02611-f484-4752-bcc8-0e40ad334a86",
   "metadata": {},
   "outputs": [],
   "source": [
    "rb = widgets.RadioButtons(\n",
    "    options=['up', 'down'], value = 'up',\n",
    ")"
   ]
  },
  {
   "cell_type": "code",
   "execution_count": 11,
   "id": "9f5d6ec6-ba87-4f18-9f07-657dd42fcf33",
   "metadata": {},
   "outputs": [
    {
     "data": {
      "application/vnd.jupyter.widget-view+json": {
       "model_id": "75b32905ece9475e99fc344c25fae75d",
       "version_major": 2,
       "version_minor": 0
      },
      "text/plain": [
       "interactive(children=(RadioButtons(description='x', options=('up', 'down'), value='up'), Output()), _dom_class…"
      ]
     },
     "metadata": {},
     "output_type": "display_data"
    }
   ],
   "source": [
    "@interact(x=rb)\n",
    "def f2(x):\n",
    "    if x == 'up':\n",
    "        print(\"UP\")\n",
    "    elif x == 'down':\n",
    "        print(\"DOWN\")\n",
    "    "
   ]
  },
  {
   "cell_type": "code",
   "execution_count": null,
   "id": "80d1cd46-a28c-41d7-bf7b-db70be237442",
   "metadata": {},
   "outputs": [],
   "source": []
  }
 ],
 "metadata": {
  "kernelspec": {
   "display_name": "Python 3 (ipykernel)",
   "language": "python",
   "name": "python3"
  },
  "language_info": {
   "codemirror_mode": {
    "name": "ipython",
    "version": 3
   },
   "file_extension": ".py",
   "mimetype": "text/x-python",
   "name": "python",
   "nbconvert_exporter": "python",
   "pygments_lexer": "ipython3",
   "version": "3.11.6"
  }
 },
 "nbformat": 4,
 "nbformat_minor": 5
}
