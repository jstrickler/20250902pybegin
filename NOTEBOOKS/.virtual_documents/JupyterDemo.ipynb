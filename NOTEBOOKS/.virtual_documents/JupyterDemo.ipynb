














x = 3


for i in range(3):
    print(i)


print(x)





from datetime import date as Date


then = Date(2011,5,22)


print(then.year)


%pinfo then





i?





Date??


import re
re.search?


import pandas as pd
import scipy as sp
import numpy as np
import matplotlib.pyplot as plt









%matplotlib inline
values = np.random.randint(1, 100, 50)
plt.plot(values)








%lsmagic





timeit?


!hostname
h = !hostname
print(h)








%run ../EXAMPLES/my_vars.py


print(user_name)
print(animal)
print(snake)





# %load ../EXAMPLES/read_tyger.py
#!/usr/bin/env python

with open("../DATA/tyger.txt", "r") as tyger_in:  # <1>
    for line in tyger_in:  # <2>
        print(line, end='')  # <3>


# %load imports.py
import numpy as np
import scipy as sp
import pandas as pd
import matplotlib.pyplot as plt
import matplotlib as mpl
%matplotlib inline
import seaborn as sns
sns.set()






















from scipy import stats
sp.info(stats)





fruits = ["pomegranate", "cherry", "apricot", "date", "Apple",
"lemon", "Kiwi", "ORANGE", "lime", "Watermelon", "guava",
"Papaya", "FIG", "pear", "banana", "Tamarind", "Persimmon",
"elderberry", "peach", "BLUEberry", "lychee", "GRAPE" ]






%%timeit 100
f1 = []
for f in fruits:
    f1.append(f[:3])





%%timeit 100
f2 = [f[:3] for f in fruits]









