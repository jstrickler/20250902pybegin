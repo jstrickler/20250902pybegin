





import pandas as pd
%matplotlib inline
import matplotlib.pyplot as plt
import warnings
warnings.filterwarnings('ignore')






import os
os.getcwd()



df = pd.read_excel('../DATA/titanic3.xls')
df.head()



df.describe(include='all')


df.memory_usage(deep=True)


df = df.astype({'sex': 'category', 'embarked': 'category'})
df.memory_usage(deep=True)


df.info()


df['survived'].value_counts()


survival = df['survived'].value_counts()
survival.index = ['Perished', 'Survived']
survival.plot(kind='bar')
#ax = plt.gca()
plt.text(0,900, survival['Perished'])
plt.text(1,900, survival['Survived'])



passengers_by_sex = df['sex'].value_counts()
print(passengers_by_sex)
passengers_by_sex.plot(kind='bar')
ax = plt.gca()
plt.text(0,900, passengers_by_sex['male'])
plt.text(1,900, passengers_by_sex['female'])







df[['pclass', 'survived', 'sex', 'age']].query(
    'sex == "female" and survived == 1 and pclass == 1 and 45 <= age <= 60'
).sort_values(by="age", ascending=False)





df[['pclass', 'survived', 'sex', 'age']][
    df['sex'] == "female"][df['pclass'] == 1][df['survived'] == 1
][df['age'] >= 45][df['age'] <= 60].sort_values(by="age", ascending=False)





age_data = {}
for sex in ['male', 'female']:
    age_data[sex] = df.query('sex  == @sex')['age'].dropna()
    age_data[sex].sort_values(inplace=True)
#     print(label.upper())
#     print(age_data[sex].head(20))
    plt.plot(range(len(age_data[sex])), age_data[sex].values, label=sex)
plt.ylabel = "age"
plt.xlabel = "number of people"
plt.legend()






dummies = pd.get_dummies(df.loc[:, 'sex'])
dummies.head()





df_hot = pd.merge(df, dummies, left_index=True, right_index=True)
df_hot


df_hot[(df_hot['female'] == 1) & (df_hot['survived'] == 1)]








df


ab = pd.read_csv("../DATA/airport_boardings.csv", thousands=",", index_col=1)
ab






