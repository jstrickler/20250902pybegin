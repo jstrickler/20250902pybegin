


import seaborn as sns
import pandas as pd
import matplotlib.pyplot as plt
%matplotlib inline





import warnings
with warnings.catch_warnings(record=True):
    g = globals()
    for dataset_name in sns.get_dataset_names():
        print(dataset_name)
        g[dataset_name] = sns.load_dataset(dataset_name)






for sex in 'female', 'male':
    print(sex)
    print(titanic[titanic['sex'] == sex]['age'].min())
    print(titanic[titanic['sex'] == sex]['age'].max())
    print(titanic[titanic['sex'] == sex]['age'].median())
    print(titanic[titanic['sex'] == sex]['age'].mean())
    



titanic.info()





ax = sns.barplot(data=titanic, x='sex', y='age', hue='alive')


ax = sns.barplot(data=titanic, x='alive', y='age', hue='class')


vc = titanic.value_counts('pclass')
vc


penguins.describe()


penguins.info()


vc = penguins.value_counts('species')
print(vc)
sns.barplot(x=vc, y=vc.index)


vc = titanic.value_counts('class')
vc


sns.barplot(x=vc.index, y=vc, orient='v')


mpg


sns.countplot(data=mpg, x='cylinders')


import mpld3
#tooltip = mpld3.plugins.PointLabelTooltip(scatter, labels=labels)
sns.relplot(data=mpg, x='horsepower', y='weight', hue='cylinders', size='displacement')
plt.xlim(25, 350)


mpg['make'] = mpg['name'].str.split().apply(lambda e: e[0])
data = ((make, data['mpg'].mean(), data['horsepower'].mean()) for make, data in mpg.groupby('make'))  # generator
df = pd.DataFrame(data, columns='make mpg horsepower'.split())
sns.scatterplot(data=df, x='mpg', y='horsepower')


data = ((year, data['mpg'].mean(), data['horsepower'].mean()) for year, data in mpg.groupby('model_year'))  # generator
df = pd.DataFrame(data, columns='year mpg horsepower'.split())
df['year'] += 1900
df


sns.lineplot(data=df, x='year', y='mpg')


sns.histplot(mpg.mpg, bins=8, kde=True)


sns.lmplot(data=df, x='year', y='mpg')


penguins


sns.boxplot(data=penguins, y="body_mass_g", x="species")


sns.violinplot(data=penguins, y="body_mass_g", x="species")


titanic


titanic.groupby('sex')


titanic.groupby('sex').count().sort_values(by="sex").sort_values(by="deck", ascending=False)






