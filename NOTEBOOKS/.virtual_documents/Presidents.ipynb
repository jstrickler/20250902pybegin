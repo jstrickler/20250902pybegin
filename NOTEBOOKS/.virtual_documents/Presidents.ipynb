import pandas as pd
import seaborn as sns
import matplotlib.pyplot as plt
sns.set()


df = pd.read_excel('http://qrc.depaul.edu/Excel_Files/Presidents.xlsx', sheet_name='Master',
                  na_values='NA()')
df.index = range(1,len(df)+1)
df


parties = df['Political Party'].value_counts()
parties


parties.plot(kind="bar")


occupations = df['Occupation'].value_counts()
occupations


occupations.plot(kind="pie")


plt.hlines?


plt.bar(df['Year first inaugurated'].values, df['% popular'].values)
plt.title("Popular Vote in US Presidential Elections")
plt.xlabel("Year Inaugurated")
plt.ylabel("% Of Popular Vote")


gb = df[['State elected from', 'Age at inauguration']].groupby('State elected from').agg("max").sort_values(by="Age at inauguration").reset_index()
gb


pt = df.pivot_table(index='State elected from', values="Age at inauguration", aggfunc="max").sort_values(by="Age at inauguration").reset_index()
pt


gb.equals(pt)


sns.barplot(data=gb, x='Age at inauguration',  y='State elected from', orient='h')



