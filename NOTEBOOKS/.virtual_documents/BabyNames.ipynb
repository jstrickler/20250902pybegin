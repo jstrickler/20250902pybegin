





# %load imports.py
import pandas as pd
import matplotlib.pyplot as plt
from ipywidgets import interact_manual, interact
import ipywidgets as widgets
%matplotlib inline
import seaborn as sns
sns.set()





df = pd.read_csv('../DATA/baby-names.csv')
df.head()


df.describe()





df.value_counts('year').sort_index()





df.info(memory_usage="deep")





df.describe(include='all')





df = pd.read_csv('../DATA/baby-names.csv', dtype={'sex': 'category', 'name': 'category'})





df.info(memory_usage="deep")





df.head()





y_min = df['percent'].min()
y_max = df['percent'].max()
x_min = df['year'].min()
x_max = df['year'].max()


name = "John"
sex = "boy"
df_name = df[(df.name == name) & (df.sex == sex)]
df_name.plot('year', 'percent', xlabel='year', ylabel='percentage', title=name, ylim=(y_min, y_max), xlim=(x_min, x_max))
# plt.savefig(name + ".png")







# define radio buttons for boy/girl
rb = widgets.RadioButtons(
    options=['girl', 'boy'], value = 'girl',
)


def plot_name(name, sex):
    title = f"{name} ({sex})"
    df_name = df[(df.name.str.lower() == name.lower()) & (df.sex == sex)]
    df_name.plot('year', 'percent',
                 title = title, xlabel='year', ylabel='percentage', ylim=(y_min, y_max), xlim=(x_min, x_max))
    
im = interact_manual.options(manual_name="Plot")
im(plot_name, name="", sex=rb)





df[df.percent == df.percent.max()]





group_by_name = df.groupby('name')

data_by_name = [(name, data['percent'].mean()) for name, data in group_by_name]
avg_by_name = pd.DataFrame(data_by_name, columns=['name', 'mean_percent'])
avg_by_name





highest_percent = avg_by_name['mean_percent'].max()
avg_by_name[avg_by_name['mean_percent'] == highest_percent]





df[df['name'] == 'Mary']['percent'].mean()





N = 20
avg_by_name.sort_values(by="mean_percent", ascending=False)[:N]





df[df.percent == df.percent.min()]





dy = df.groupby("year")  # group the data by year
    
df_lengths = pd.DataFrame(
    (
        (
            year, 
            data['name'].str.len().min(),
            data['name'].str.len().max(),
            data['name'].str.len().mean(),
            data['name'].str.len().median(),
        ) for year, data in dy
    ), 
    columns=['year', 'min', 'max', 'mean', 'median']
)
df_lengths.head(30)





plt.plot(df_lengths['year'], df_lengths['min'], label="shortest")
plt.plot(df_lengths['year'], df_lengths['mean'], label="mean")
plt.plot(df_lengths['year'], df_lengths['median'], label="median")
plt.plot(df_lengths['year'], df_lengths['max'], label="longest")
plt.legend(loc="upper center")
plt.ylim(1,16)





# sns plot functions return a FacetGrid instance, which we can use to configure the plot
fg = sns.relplot(x='year', y='mean', data=df_lengths, kind="line")
fg.set(ylim=(df_lengths['min'].min(), df_lengths['max'].max()))  # minimum min and maximum max :-)





